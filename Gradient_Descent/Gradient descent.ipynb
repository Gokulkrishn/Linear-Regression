{
 "cells": [
  {
   "cell_type": "code",
   "execution_count": 1,
   "id": "f7b6fb8b",
   "metadata": {},
   "outputs": [],
   "source": [
    "import pandas as pd\n",
    "import numpy as np"
   ]
  },
  {
   "cell_type": "code",
   "execution_count": 22,
   "id": "38bd632e",
   "metadata": {},
   "outputs": [],
   "source": [
    "x = np.array([1,2,3,4,5])\n",
    "y = np.array([5,7,9,11,13])"
   ]
  },
  {
   "cell_type": "code",
   "execution_count": 38,
   "id": "231a6a19",
   "metadata": {},
   "outputs": [],
   "source": [
    "def gradient_descent(x,y):\n",
    "    iterations = 1000\n",
    "    alpha = 0.005\n",
    "    m_cur = b_cur = 0\n",
    "    n =len(x)\n",
    "    for i in range(iterations):\n",
    "        y_pred = m_cur*x+b_cur\n",
    "        cost = (1/n)*sum((y-y_pred)**2)\n",
    "        md = -(2/n)*sum(x*(y-y_pred))\n",
    "        bd = -(2/n)*sum(y-y_pred)\n",
    "        m_cur = m_cur - alpha*md\n",
    "        b_cur = b_cur - alpha*bd\n",
    "    return m_cur,b_cur"
   ]
  },
  {
   "cell_type": "code",
   "execution_count": 39,
   "id": "31c2088f",
   "metadata": {},
   "outputs": [
    {
     "data": {
      "text/plain": [
       "(2.1158847017304687, 2.581619456736265)"
      ]
     },
     "execution_count": 39,
     "metadata": {},
     "output_type": "execute_result"
    }
   ],
   "source": [
    "gradient_descent(x,y)"
   ]
  },
  {
   "cell_type": "code",
   "execution_count": 29,
   "id": "14638175",
   "metadata": {},
   "outputs": [
    {
     "data": {
      "text/plain": [
       "array([16, 25, 36, 49, 64])"
      ]
     },
     "execution_count": 29,
     "metadata": {},
     "output_type": "execute_result"
    }
   ],
   "source": [
    "(x-y)**2"
   ]
  },
  {
   "cell_type": "code",
   "execution_count": null,
   "id": "806cda5d",
   "metadata": {},
   "outputs": [],
   "source": []
  }
 ],
 "metadata": {
  "kernelspec": {
   "display_name": "Python 3 (ipykernel)",
   "language": "python",
   "name": "python3"
  },
  "language_info": {
   "codemirror_mode": {
    "name": "ipython",
    "version": 3
   },
   "file_extension": ".py",
   "mimetype": "text/x-python",
   "name": "python",
   "nbconvert_exporter": "python",
   "pygments_lexer": "ipython3",
   "version": "3.9.7"
  }
 },
 "nbformat": 4,
 "nbformat_minor": 5
}
